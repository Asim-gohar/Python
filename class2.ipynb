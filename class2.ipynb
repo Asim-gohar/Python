{
 "cells": [
  {
   "cell_type": "code",
   "execution_count": 8,
   "metadata": {},
   "outputs": [
    {
     "ename": "NameError",
     "evalue": "name 'name' is not defined",
     "output_type": "error",
     "traceback": [
      "\u001b[1;31m---------------------------------------------------------------------------\u001b[0m",
      "\u001b[1;31mNameError\u001b[0m                                 Traceback (most recent call last)",
      "\u001b[1;32md:\\Panaverse web3\\Python\\class2.ipynb Cell 1\u001b[0m line \u001b[0;36m1\n\u001b[1;32m----> <a href='vscode-notebook-cell:/d%3A/Panaverse%20web3/Python/class2.ipynb#W1sZmlsZQ%3D%3D?line=0'>1</a>\u001b[0m \u001b[39mprint\u001b[39m(name)\n",
      "\u001b[1;31mNameError\u001b[0m: name 'name' is not defined"
     ]
    }
   ],
   "source": [
    "print(name)"
   ]
  },
  {
   "cell_type": "code",
   "execution_count": 12,
   "metadata": {},
   "outputs": [
    {
     "name": "stdout",
     "output_type": "stream",
     "text": [
      "Asim Gohar Butt\n"
     ]
    }
   ],
   "source": [
    "name: str = \"Asim Gohar Butt\"\n",
    "print(name)"
   ]
  },
  {
   "cell_type": "markdown",
   "metadata": {},
   "source": [
    "# String Data type in python"
   ]
  },
  {
   "cell_type": "code",
   "execution_count": 13,
   "metadata": {},
   "outputs": [
    {
     "name": "stdout",
     "output_type": "stream",
     "text": [
      "<class 'str'>\n",
      "Asim Gohar butt\n"
     ]
    }
   ],
   "source": [
    "# boundries\n",
    "# 'string text', \"string text \", '''string text''', \"\"\" string\"\"\"\n",
    "# `string text` type script\n",
    "\n",
    "name : str = \"Asim Gohar butt\"\n",
    "print(type(name))\n",
    "print(name)"
   ]
  },
  {
   "cell_type": "code",
   "execution_count": 16,
   "metadata": {},
   "outputs": [
    {
     "ename": "SyntaxError",
     "evalue": "unterminated string literal (detected at line 1) (3036595969.py, line 1)",
     "output_type": "error",
     "traceback": [
      "\u001b[1;36m  Cell \u001b[1;32mIn[16], line 1\u001b[1;36m\u001b[0m\n\u001b[1;33m    piaic : str = 'Piaic student card \\n Father's name'\u001b[0m\n\u001b[1;37m                                                      ^\u001b[0m\n\u001b[1;31mSyntaxError\u001b[0m\u001b[1;31m:\u001b[0m unterminated string literal (detected at line 1)\n"
     ]
    }
   ],
   "source": [
    "piaic : str = 'Piaic student card \\n Father's name'\n",
    "print(piaic)"
   ]
  },
  {
   "cell_type": "code",
   "execution_count": 17,
   "metadata": {},
   "outputs": [
    {
     "name": "stdout",
     "output_type": "stream",
     "text": [
      "Piaic student card \n",
      " Father's name\n"
     ]
    }
   ],
   "source": [
    "piaic : str = \"Piaic student card \\n Father's name\"\n",
    "print(piaic)"
   ]
  },
  {
   "cell_type": "code",
   "execution_count": 20,
   "metadata": {},
   "outputs": [
    {
     "name": "stdout",
     "output_type": "stream",
     "text": [
      "Piaic \"student card\" \n",
      " Fathers name\n"
     ]
    }
   ],
   "source": [
    "piaic : str = 'Piaic \"student card\" \\n Fathers name'\n",
    "print(piaic)"
   ]
  },
  {
   "cell_type": "code",
   "execution_count": 24,
   "metadata": {},
   "outputs": [
    {
     "name": "stdout",
     "output_type": "stream",
     "text": [
      "PIAIC Student Card \n",
      " Father's Name\n"
     ]
    }
   ],
   "source": [
    "# convert any special character into simple character, place \\ before character\n",
    "message : str = 'PIAIC Student Card \\n Father\\'s Name'\n",
    "print(message)"
   ]
  },
  {
   "cell_type": "code",
   "execution_count": 25,
   "metadata": {},
   "outputs": [
    {
     "data": {
      "text/plain": [
       "('a', 'b', 'c')"
      ]
     },
     "execution_count": 25,
     "metadata": {},
     "output_type": "execute_result"
    }
   ],
   "source": [
    "\"a\" , \"b\" , \"c\""
   ]
  },
  {
   "cell_type": "code",
   "execution_count": 26,
   "metadata": {},
   "outputs": [
    {
     "data": {
      "text/plain": [
       "'abc'"
      ]
     },
     "execution_count": 26,
     "metadata": {},
     "output_type": "execute_result"
    }
   ],
   "source": [
    "\"a\" + \"b\" + \"c\""
   ]
  },
  {
   "cell_type": "code",
   "execution_count": 27,
   "metadata": {},
   "outputs": [
    {
     "ename": "TypeError",
     "evalue": "can only concatenate str (not \"int\") to str",
     "output_type": "error",
     "traceback": [
      "\u001b[1;31m---------------------------------------------------------------------------\u001b[0m",
      "\u001b[1;31mTypeError\u001b[0m                                 Traceback (most recent call last)",
      "\u001b[1;32md:\\Panaverse web3\\Python\\class2.ipynb Cell 11\u001b[0m line \u001b[0;36m1\n\u001b[1;32m----> <a href='vscode-notebook-cell:/d%3A/Panaverse%20web3/Python/class2.ipynb#X20sZmlsZQ%3D%3D?line=0'>1</a>\u001b[0m \u001b[39m\"\u001b[39;49m\u001b[39mA\u001b[39;49m\u001b[39m\"\u001b[39;49m \u001b[39m+\u001b[39;49m \u001b[39m7\u001b[39;49m\n",
      "\u001b[1;31mTypeError\u001b[0m: can only concatenate str (not \"int\") to str"
     ]
    }
   ],
   "source": [
    "\"A\" + 7"
   ]
  },
  {
   "cell_type": "code",
   "execution_count": 28,
   "metadata": {},
   "outputs": [
    {
     "data": {
      "text/plain": [
       "'A7'"
      ]
     },
     "execution_count": 28,
     "metadata": {},
     "output_type": "execute_result"
    }
   ],
   "source": [
    "'A' + \"7\""
   ]
  },
  {
   "cell_type": "code",
   "execution_count": 31,
   "metadata": {},
   "outputs": [
    {
     "ename": "TypeError",
     "evalue": "can only concatenate str (not \"int\") to str",
     "output_type": "error",
     "traceback": [
      "\u001b[1;31m---------------------------------------------------------------------------\u001b[0m",
      "\u001b[1;31mTypeError\u001b[0m                                 Traceback (most recent call last)",
      "\u001b[1;32md:\\Panaverse web3\\Python\\class2.ipynb Cell 13\u001b[0m line \u001b[0;36m6\n\u001b[0;32m      <a href='vscode-notebook-cell:/d%3A/Panaverse%20web3/Python/class2.ipynb#X22sZmlsZQ%3D%3D?line=2'>3</a>\u001b[0m education:\u001b[39mstr\u001b[39m \u001b[39m=\u001b[39m \u001b[39m\"\u001b[39m\u001b[39mFSC in pre-Engeenering\u001b[39m\u001b[39m\"\u001b[39m\n\u001b[0;32m      <a href='vscode-notebook-cell:/d%3A/Panaverse%20web3/Python/class2.ipynb#X22sZmlsZQ%3D%3D?line=3'>4</a>\u001b[0m age: \u001b[39mint\u001b[39m \u001b[39m=\u001b[39m \u001b[39m20\u001b[39m\n\u001b[1;32m----> <a href='vscode-notebook-cell:/d%3A/Panaverse%20web3/Python/class2.ipynb#X22sZmlsZQ%3D%3D?line=5'>6</a>\u001b[0m card: \u001b[39mstr\u001b[39m \u001b[39m=\u001b[39m \u001b[39m\"\u001b[39;49m\u001b[39mPIAIC Student Card \u001b[39;49m\u001b[39m\\n\u001b[39;49;00m\u001b[39m Student Name: \u001b[39;49m\u001b[39m\"\u001b[39;49m \u001b[39m+\u001b[39;49m name \u001b[39m+\u001b[39;49m \u001b[39m\"\u001b[39;49m\u001b[39mStudent Age: \u001b[39;49m\u001b[39m\"\u001b[39;49m \u001b[39m+\u001b[39;49m age\n\u001b[0;32m      <a href='vscode-notebook-cell:/d%3A/Panaverse%20web3/Python/class2.ipynb#X22sZmlsZQ%3D%3D?line=6'>7</a>\u001b[0m \u001b[39mprint\u001b[39m(card)\n",
      "\u001b[1;31mTypeError\u001b[0m: can only concatenate str (not \"int\") to str"
     ]
    }
   ],
   "source": [
    "name:str = \"Asim Gohar Butt\"\n",
    "fName:str = \"Umar Saeed Butt\"\n",
    "education:str = \"FSC in pre-Engeenering\"\n",
    "age: int = 20\n",
    "\n",
    "card: str = \"PIAIC Student Card \\n Student Name: \" + name + \"Student Age: \" + age\n",
    "print(card)"
   ]
  },
  {
   "cell_type": "code",
   "execution_count": 35,
   "metadata": {},
   "outputs": [
    {
     "name": "stdout",
     "output_type": "stream",
     "text": [
      "PIAIC Student Card\n",
      " Student Name: Asim Gohar Butt\n",
      " Student Age: 20\n"
     ]
    }
   ],
   "source": [
    "name:str = \"Asim Gohar Butt\" \n",
    "fName:str = \"Umar Saeed Butt\"\n",
    "education:str = \"FSC in pre-Engeenering\"\n",
    "age:int = 20\n",
    "\n",
    "card :str = \"PIAIC Student Card\\n Student Name: \" + name +\"\\n Student Age: \" + str(age)\n",
    "print(card)"
   ]
  },
  {
   "cell_type": "code",
   "execution_count": 36,
   "metadata": {},
   "outputs": [
    {
     "name": "stdout",
     "output_type": "stream",
     "text": [
      "17\n"
     ]
    }
   ],
   "source": [
    "print(7 + 8 + 2)"
   ]
  },
  {
   "cell_type": "markdown",
   "metadata": {},
   "source": [
    "# \"\\\\\" use for line continue"
   ]
  },
  {
   "cell_type": "code",
   "execution_count": 37,
   "metadata": {},
   "outputs": [
    {
     "name": "stdout",
     "output_type": "stream",
     "text": [
      "17\n"
     ]
    }
   ],
   "source": [
    "print(7 + \\\n",
    "    8 + \\\n",
    "        2)"
   ]
  },
  {
   "cell_type": "code",
   "execution_count": 81,
   "metadata": {},
   "outputs": [
    {
     "ename": "SyntaxError",
     "evalue": "unexpected character after line continuation character (838162943.py, line 7)",
     "output_type": "error",
     "traceback": [
      "\u001b[1;36m  Cell \u001b[1;32mIn[81], line 7\u001b[1;36m\u001b[0m\n\u001b[1;33m    \"\\n Student Age: \" + str(age) + \"\\n\" + \\\u001b[0m\n\u001b[1;37m                                             \n^\u001b[0m\n\u001b[1;31mSyntaxError\u001b[0m\u001b[1;31m:\u001b[0m unexpected character after line continuation character\n"
     ]
    }
   ],
   "source": [
    "name:str = \"Asim Gohar Butt\" \n",
    "fName:str = \"Umar Saeed Butt\"\n",
    "education:str = \"FSC in pre-Engeenering\"\n",
    "age:int = 20\n",
    "\n",
    "card : str = \"PIAIC Student Card \\n Student Name: \" + name + \\\n",
    "\"\\n Student Age: \" + str(age) + \"\\n\" + \\ \n",
    "\"Father Name: \" + fName + \"\\n\" + \\ \n",
    "\"Education: \" + education \n",
    "print(card)"
   ]
  },
  {
   "cell_type": "code",
   "execution_count": 29,
   "metadata": {},
   "outputs": [
    {
     "name": "stdout",
     "output_type": "stream",
     "text": [
      "PIAIC Student Card \n",
      " Student Name: Asim Gohar Butt\n",
      " Student Age: 20.2\n",
      "Father Name: Umar Saeed Butt\n",
      "Education: FSC in pre-Engeenering\n"
     ]
    }
   ],
   "source": [
    "name:str = \"Asim Gohar Butt\" \n",
    "fName:str = \"Umar Saeed Butt\"\n",
    "education:str = \"FSC in pre-Engeenering\"\n",
    "age:float = 20.2\n",
    "\n",
    "\n",
    "card : str = \"PIAIC Student Card \\n Student Name: \" + name + \\\n",
    "\"\\n Student Age: \" + str(age) + \"\\n\" \\\n",
    "\"Father Name: \" + fName + \"\\n\" \\\n",
    "\"Education: \" + education \n",
    "print(card)"
   ]
  },
  {
   "cell_type": "markdown",
   "metadata": {},
   "source": [
    "# Define Multiline string \"\"\" \"\"\" , ''' '''"
   ]
  },
  {
   "cell_type": "code",
   "execution_count": 32,
   "metadata": {},
   "outputs": [
    {
     "name": "stdout",
     "output_type": "stream",
     "text": [
      "\n",
      "PIAIC Student Card\n",
      "Student Name: \n",
      "Age:\n",
      "Father Name: ......\n",
      "Education: ......\n",
      "\n"
     ]
    }
   ],
   "source": [
    "name:str = \"Asim Gohar Butt\" \n",
    "fName:str = \"Umar Saeed Butt\"\n",
    "education:str = \"FSC in pre-Engeenering\"\n",
    "age:float = 20.2\n",
    "\n",
    "\n",
    "card : str = \"\"\"\n",
    "PIAIC Student Card\n",
    "Student Name: \n",
    "Age:\n",
    "Father Name: ......\n",
    "Education: ......\n",
    "\"\"\"\n",
    "print(card)"
   ]
  },
  {
   "cell_type": "markdown",
   "metadata": {},
   "source": [
    "# Using \"f\" String in double qoute"
   ]
  },
  {
   "cell_type": "code",
   "execution_count": 33,
   "metadata": {},
   "outputs": [
    {
     "name": "stdout",
     "output_type": "stream",
     "text": [
      "\n",
      "PIAIC Student Card\n",
      "Student Name: Asim Gohar Butt\n",
      "Age: 20.2\n",
      "Father Name: Umar Saeed Butt\n",
      "Education: FSC in pre-Engeenering\n",
      "\n"
     ]
    }
   ],
   "source": [
    "name:str = \"Asim Gohar Butt\" \n",
    "fName:str = \"Umar Saeed Butt\"\n",
    "education:str = \"FSC in pre-Engeenering\"\n",
    "age:float = 20.2\n",
    "\n",
    "\n",
    "card : str = f\"\"\"\n",
    "PIAIC Student Card\n",
    "Student Name: {name}\n",
    "Age: {age}\n",
    "Father Name: {fName}\n",
    "Education: {education}\n",
    "\"\"\"\n",
    "print(card)"
   ]
  },
  {
   "cell_type": "markdown",
   "metadata": {},
   "source": [
    "# using \"f\" string in single quote"
   ]
  },
  {
   "cell_type": "code",
   "execution_count": 34,
   "metadata": {},
   "outputs": [
    {
     "name": "stdout",
     "output_type": "stream",
     "text": [
      "\n",
      "PIAIC Student Card\n",
      "Student Name: Asim Gohar Butt\n",
      "Age: 20.2\n",
      "Father Name: Umar Saeed Butt\n",
      "Education: FSC in pre-Engeenering\n",
      "\n"
     ]
    }
   ],
   "source": [
    "name:str = \"Asim Gohar Butt\" \n",
    "fName:str = \"Umar Saeed Butt\"\n",
    "education:str = \"FSC in pre-Engeenering\"\n",
    "age:float = 20.2\n",
    "\n",
    "card : str = f'''\n",
    "PIAIC Student Card\n",
    "Student Name: {name}\n",
    "Age: {age}\n",
    "Father Name: {fName}\n",
    "Education: {education}\n",
    "'''\n",
    "print(card)"
   ]
  },
  {
   "cell_type": "markdown",
   "metadata": {},
   "source": [
    "# using \"f\" string in backticks ``"
   ]
  },
  {
   "cell_type": "code",
   "execution_count": 35,
   "metadata": {},
   "outputs": [
    {
     "ename": "SyntaxError",
     "evalue": "invalid syntax (161871494.py, line 6)",
     "output_type": "error",
     "traceback": [
      "\u001b[1;36m  Cell \u001b[1;32mIn[35], line 6\u001b[1;36m\u001b[0m\n\u001b[1;33m    card : str = f```\u001b[0m\n\u001b[1;37m                  ^\u001b[0m\n\u001b[1;31mSyntaxError\u001b[0m\u001b[1;31m:\u001b[0m invalid syntax\n"
     ]
    }
   ],
   "source": [
    "name:str = \"Asim Gohar Butt\" \n",
    "fName:str = \"Umar Saeed Butt\"\n",
    "education:str = \"FSC in pre-Engeenering\"\n",
    "age:float = 20.2\n",
    "\n",
    "card : str = f```\n",
    "PIAIC Student Card\n",
    "Student Name: {name}\n",
    "Age: {age}\n",
    "Father Name: {fName}\n",
    "Education: {education}\n",
    "```\n",
    "print(card)"
   ]
  },
  {
   "cell_type": "code",
   "execution_count": 40,
   "metadata": {},
   "outputs": [
    {
     "name": "stdout",
     "output_type": "stream",
     "text": [
      "\n",
      "PIAIC Student Card\n",
      "Student Name : Asim Gohar Butt\n",
      "Father's Name: Umar Saeed Butt\n",
      "Age: 20.2\n",
      "Education : FSC pre-Engeenering\n",
      "\n",
      "Total 22\n",
      "\n"
     ]
    }
   ],
   "source": [
    "name : str = 'Asim Gohar Butt'\n",
    "fname : str = \"Umar Saeed Butt\"\n",
    "education : str = \"FSC pre-Engeenering\"\n",
    "age : int = 20.2\n",
    "\n",
    "\n",
    "card : str = f\"\"\"\n",
    "PIAIC Student Card\n",
    "Student Name : {name}\n",
    "Father's Name: {fname}\n",
    "Age: {age}\n",
    "Education : {education}\n",
    "\n",
    "Total {2 + 8 + 9 + 3}\n",
    "\"\"\"\n",
    "print(card)"
   ]
  },
  {
   "cell_type": "code",
   "execution_count": 37,
   "metadata": {},
   "outputs": [
    {
     "data": {
      "text/plain": [
       "'\\nstudent name {{name}}\\n'"
      ]
     },
     "execution_count": 37,
     "metadata": {},
     "output_type": "execute_result"
    }
   ],
   "source": [
    "# Jinja Style\n",
    "\"\"\"\n",
    "student name {{name}}\n",
    "\"\"\""
   ]
  },
  {
   "cell_type": "markdown",
   "metadata": {},
   "source": [
    "# \"f\" string by \".format \" method"
   ]
  },
  {
   "cell_type": "code",
   "execution_count": 39,
   "metadata": {},
   "outputs": [
    {
     "data": {
      "text/plain": [
       "'Pakistan value a = 6 and Zindabad value b = 7'"
      ]
     },
     "execution_count": 39,
     "metadata": {},
     "output_type": "execute_result"
    }
   ],
   "source": [
    "a = 7\n",
    "b = 6\n",
    "\"Pakistan value a = {} and Zindabad value b = {}\".format(b,a)"
   ]
  },
  {
   "cell_type": "markdown",
   "metadata": {},
   "source": [
    "# old \"f\" string style"
   ]
  },
  {
   "cell_type": "code",
   "execution_count": 47,
   "metadata": {},
   "outputs": [
    {
     "name": "stdout",
     "output_type": "stream",
     "text": [
      "\n",
      "PIAIC Student Card\n",
      "Student Name : Asim Gohar Butt\n",
      "Father's Name: Umar Saeed Butt\n",
      "Age: 20\n",
      "Education : FSC pre-Engeenering\n",
      "\n"
     ]
    }
   ],
   "source": [
    "name : str = 'Asim Gohar Butt'\n",
    "fname : str = \"Umar Saeed Butt\"\n",
    "education : str = \"FSC pre-Engeenering\"\n",
    "age : int = 20\n",
    "\n",
    "\n",
    "card : str = f\"\"\"\n",
    "PIAIC Student Card\n",
    "Student Name : %s\n",
    "Father's Name: %s\n",
    "Age: %d\n",
    "Education : %s\n",
    "\"\"\" %(name , fname , age , education) #Sequence will be matter\n",
    "print(card)"
   ]
  },
  {
   "cell_type": "code",
   "execution_count": 69,
   "metadata": {},
   "outputs": [
    {
     "name": "stdout",
     "output_type": "stream",
     "text": [
      "\n",
      "PIAIC Student Card\n",
      "Student Name : Asim Gohar Butt\n",
      "Father's Name: 20\n",
      "Age: Umar Saeed Butt\n",
      "Education : FSC pre-Engeenering\n",
      "\n"
     ]
    }
   ],
   "source": [
    "name : str = 'Asim Gohar Butt'\n",
    "fname : str = \"Umar Saeed Butt\"\n",
    "education : str = \"FSC pre-Engeenering\"\n",
    "age : int = 20\n",
    "\n",
    "\n",
    "card : str = \"\"\"\n",
    "PIAIC Student Card\n",
    "Student Name : {}\n",
    "Father's Name: {}\n",
    "Age: {}\n",
    "Education : {}\n",
    "\"\"\".format(name , age , fname , education) #Again sequence will be matter\n",
    "print(card)"
   ]
  },
  {
   "cell_type": "markdown",
   "metadata": {},
   "source": [
    "# solve problem by indexing"
   ]
  },
  {
   "cell_type": "code",
   "execution_count": 70,
   "metadata": {},
   "outputs": [
    {
     "name": "stdout",
     "output_type": "stream",
     "text": [
      "\n",
      "PIAIC Student Card\n",
      "Student Name : Asim Gohar Butt\n",
      "Father's Name: Umar Saeed Butt\n",
      "Age: 20\n",
      "Education : FSC pre-Engeenering\n",
      "\n"
     ]
    }
   ],
   "source": [
    "name : str = 'Asim Gohar Butt'\n",
    "fname : str = \"Umar Saeed Butt\"\n",
    "education : str = \"FSC pre-Engeenering\"\n",
    "age : int = 20\n",
    "\n",
    "\n",
    "card : str = \"\"\"\n",
    "PIAIC Student Card\n",
    "Student Name : {0}\n",
    "Father's Name: {2}\n",
    "Age: {1}\n",
    "Education : {3}\n",
    "\"\"\".format(name , age , fname , education) #Again sequence will be matter for indexing\n",
    "#           0       1      2       3\n",
    "print(card)"
   ]
  },
  {
   "cell_type": "code",
   "execution_count": 73,
   "metadata": {},
   "outputs": [
    {
     "name": "stdout",
     "output_type": "stream",
     "text": [
      "\n",
      "PIAIC Student Card\n",
      "Student Name : Asim Gohar Butt\n",
      "Father's Name: Umar Saeed Butt\n",
      "Age: 20\n",
      "Education : Umar Saeed Butt\n",
      "\n"
     ]
    }
   ],
   "source": [
    "#Solve by giving your own index name like a = name\n",
    "name : str = 'Asim Gohar Butt'\n",
    "fname : str = \"Umar Saeed Butt\"\n",
    "education : str = \"FSC pre-Engeenering\"\n",
    "age : int = 20\n",
    "\n",
    "\n",
    "card : str = \"\"\"\n",
    "PIAIC Student Card\n",
    "Student Name : {a}\n",
    "Father's Name: {c}\n",
    "Age: {b}\n",
    "Education : {d}\n",
    "\"\"\".format(a = name , b = age ,c = fname , d = education) #Again sequence will be matter\n",
    "print(card)"
   ]
  },
  {
   "cell_type": "markdown",
   "metadata": {},
   "source": [
    "# Recommended below two f-string format"
   ]
  },
  {
   "cell_type": "code",
   "execution_count": 6,
   "metadata": {},
   "outputs": [
    {
     "name": "stdout",
     "output_type": "stream",
     "text": [
      "\n",
      "PIAIC Student Card\n",
      "Student Name : Asim Gohar Butt\n",
      "Father's Name: Umar Saeed Butt\n",
      "Age: 20\n",
      "Education : FSC pre-Engeenering\n",
      "\n",
      "122\n"
     ]
    }
   ],
   "source": [
    "name : str = 'Asim Gohar Butt'\n",
    "fname : str = \"Umar Saeed Butt\"\n",
    "education : str = \"FSC pre-Engeenering\"\n",
    "age : int = 20\n",
    "\n",
    "    # No 1\n",
    "card : str = f\"\"\"\n",
    "PIAIC Student Card\n",
    "Student Name : {name}\n",
    "Father's Name: {fname}\n",
    "Age: {age}\n",
    "Education : {education}\n",
    "\"\"\"\n",
    "print(card)\n",
    "print(len(card))"
   ]
  },
  {
   "cell_type": "code",
   "execution_count": 11,
   "metadata": {},
   "outputs": [
    {
     "name": "stdout",
     "output_type": "stream",
     "text": [
      "My Name is 'Asim Gohar Butt'\n",
      "Age is\t20\n"
     ]
    }
   ],
   "source": [
    "student_code : str = \"\"\"\n",
    "print(\"My Name is 'Asim Gohar Butt'\")\n",
    "a:int = 7\n",
    "b:int = 13\n",
    "print(\"Age is\\t\"+ str(a + b) )\n",
    "\"\"\"\n",
    "\n",
    "exec(student_code)"
   ]
  },
  {
   "cell_type": "code",
   "execution_count": 14,
   "metadata": {},
   "outputs": [
    {
     "data": {
      "text/plain": [
       "'      MuHammAd           QasIm         '"
      ]
     },
     "metadata": {},
     "output_type": "display_data"
    },
    {
     "data": {
      "text/plain": [
       "'MuHammAd QasIm'"
      ]
     },
     "metadata": {},
     "output_type": "display_data"
    }
   ],
   "source": [
    "import re\n",
    "\n",
    "name : str = \"      MuHammAd           QasIm         \"\n",
    "\n",
    "display(name)\n",
    "\n",
    "name1 : str = re.sub(' {2,100}',' ', name).strip()\n",
    "display(name1)"
   ]
  },
  {
   "cell_type": "code",
   "execution_count": 13,
   "metadata": {},
   "outputs": [
    {
     "ename": "SyntaxError",
     "evalue": "invalid syntax (549848945.py, line 1)",
     "output_type": "error",
     "traceback": [
      "\u001b[1;36m  Cell \u001b[1;32mIn[13], line 1\u001b[1;36m\u001b[0m\n\u001b[1;33m    piaic student card:str = \"Qasim\"\u001b[0m\n\u001b[1;37m          ^\u001b[0m\n\u001b[1;31mSyntaxError\u001b[0m\u001b[1;31m:\u001b[0m invalid syntax\n"
     ]
    }
   ],
   "source": [
    "piaic student card:str = \"Qasim\"\n",
    "print(piaic student card)"
   ]
  },
  {
   "cell_type": "code",
   "execution_count": 15,
   "metadata": {},
   "outputs": [
    {
     "data": {
      "text/plain": [
       "'ASIM BUTT'"
      ]
     },
     "execution_count": 15,
     "metadata": {},
     "output_type": "execute_result"
    }
   ],
   "source": [
    "name:str = \"     ASIM BUTT     \"\n",
    "name.strip()"
   ]
  },
  {
   "cell_type": "code",
   "execution_count": 16,
   "metadata": {},
   "outputs": [
    {
     "name": "stdout",
     "output_type": "stream",
     "text": [
      "     ASIM BUTT     \n"
     ]
    },
    {
     "data": {
      "text/plain": [
       "'     ASIM BUTT'"
      ]
     },
     "execution_count": 16,
     "metadata": {},
     "output_type": "execute_result"
    }
   ],
   "source": [
    "name:str = \"     ASIM BUTT     \"\n",
    "print(name)\n",
    "name.rstrip()"
   ]
  },
  {
   "cell_type": "code",
   "execution_count": 17,
   "metadata": {},
   "outputs": [
    {
     "name": "stdout",
     "output_type": "stream",
     "text": [
      "     ASIM BUTT     \n"
     ]
    },
    {
     "data": {
      "text/plain": [
       "'ASIM BUTT     '"
      ]
     },
     "execution_count": 17,
     "metadata": {},
     "output_type": "execute_result"
    }
   ],
   "source": [
    "name:str = \"     ASIM     BUTT     \"\n",
    "print(name)\n",
    "name.lstrip()"
   ]
  },
  {
   "cell_type": "code",
   "execution_count": 18,
   "metadata": {},
   "outputs": [
    {
     "name": "stdout",
     "output_type": "stream",
     "text": [
      "     ASIM     BUTT     \n"
     ]
    },
    {
     "data": {
      "text/plain": [
       "'ASIM     BUTT'"
      ]
     },
     "execution_count": 18,
     "metadata": {},
     "output_type": "execute_result"
    }
   ],
   "source": [
    "name:str = \"     ASIM     BUTT     \"\n",
    "print(name)\n",
    "name.strip()"
   ]
  },
  {
   "cell_type": "code",
   "execution_count": 30,
   "metadata": {},
   "outputs": [
    {
     "name": "stdout",
     "output_type": "stream",
     "text": [
      "     ASIM     BUTT     \n"
     ]
    },
    {
     "data": {
      "text/plain": [
       "'ASIM BUTT'"
      ]
     },
     "metadata": {},
     "output_type": "display_data"
    }
   ],
   "source": [
    "name:str = \"     ASIM     BUTT     \"\n",
    "print(name)\n",
    "name1:str = re.sub(' {2,100}',' ',name).strip()\n",
    "display(name1)"
   ]
  },
  {
   "cell_type": "code",
   "execution_count": 2,
   "metadata": {},
   "outputs": [
    {
     "name": "stdout",
     "output_type": "stream",
     "text": [
      "twitter.com\n"
     ]
    },
    {
     "data": {
      "text/plain": [
       "'https://twitter'"
      ]
     },
     "execution_count": 2,
     "metadata": {},
     "output_type": "execute_result"
    }
   ],
   "source": [
    "web_url:str = 'https://twitter.com'\n",
    "print(web_url.removeprefix('https://'))\n",
    "web_url.removesuffix(\".com\")"
   ]
  }
 ],
 "metadata": {
  "kernelspec": {
   "display_name": "python12",
   "language": "python",
   "name": "python3"
  },
  "language_info": {
   "codemirror_mode": {
    "name": "ipython",
    "version": 3
   },
   "file_extension": ".py",
   "mimetype": "text/x-python",
   "name": "python",
   "nbconvert_exporter": "python",
   "pygments_lexer": "ipython3",
   "version": "3.12.0"
  }
 },
 "nbformat": 4,
 "nbformat_minor": 2
}
